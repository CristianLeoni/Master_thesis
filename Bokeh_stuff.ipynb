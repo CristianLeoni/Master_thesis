{
 "cells": [
  {
   "cell_type": "code",
   "execution_count": 18,
   "metadata": {},
   "outputs": [
    {
     "data": {
      "text/plain": [
       "'C:\\\\Users\\\\Cristian\\\\AAA Master_thesis\\\\templates\\\\index.html'"
      ]
     },
     "execution_count": 18,
     "metadata": {},
     "output_type": "execute_result"
    }
   ],
   "source": [
    "from bokeh.plotting import figure,output_file, save\n",
    "from bokeh.models.callbacks import CustomJS\n",
    "\n",
    "\n",
    "plot = figure()\n",
    "plot.circle([1,2], [3,4])\n",
    "\n",
    "callback = CustomJS(args=dict(xr=plot.x_range), code=\"\"\"\n",
    "                                                    // JavaScript code goes here\n",
    "                                                    console.log(\"Hello!\");\n",
    "                                                    \"\"\")\n",
    "\n",
    "output_file(\"templates/index.html\", title='Bokeh Plot', mode=None, root_dir=None)\n",
    "save(plot)"
   ]
  },
  {
   "cell_type": "code",
   "execution_count": 21,
   "metadata": {},
   "outputs": [
    {
     "data": {
      "text/plain": [
       "'C:\\\\Users\\\\Cristian\\\\AAA Master_thesis\\\\templates\\\\index.html'"
      ]
     },
     "execution_count": 21,
     "metadata": {},
     "output_type": "execute_result"
    }
   ],
   "source": [
    "from bokeh.layouts import column\n",
    "from bokeh.models import ColumnDataSource, CustomJS, Slider\n",
    "from bokeh.plotting import Figure, output_file, save\n",
    "\n",
    "x = [x*0.005 for x in range(0, 200)]\n",
    "y = x\n",
    "\n",
    "source = ColumnDataSource(data=dict(x=x, y=y))\n",
    "\n",
    "plot = Figure(plot_width=400, plot_height=400)\n",
    "plot.line('x', 'y', source=source, line_width=3, line_alpha=0.6)\n",
    "\n",
    "callback = CustomJS(args=dict(source=source), code=\"\"\"\n",
    "    var data = source.data;\n",
    "    var f = cb_obj.value\n",
    "    var x = data['x']\n",
    "    var y = data['y']\n",
    "    for (var i = 0; i < x.length; i++) {\n",
    "        y[i] = Math.pow(x[i], f)\n",
    "    }\n",
    "    source.change.emit();\n",
    "    \n",
    "    callback();\n",
    "\"\"\")\n",
    "\n",
    "slider = Slider(start=0.1, end=4, value=1, step=.1, title=\"power\")\n",
    "slider.js_on_change('value', callback)\n",
    "\n",
    "layout = column(slider, plot)\n",
    "output_file(\"templates/index.html\", title='Bokeh Plot', mode=None, root_dir=None)\n",
    "save(layout)"
   ]
  },
  {
   "cell_type": "code",
   "execution_count": 1,
   "metadata": {},
   "outputs": [],
   "source": [
    "import plotly.express as px\n",
    "\n",
    "fig =px.scatter(x=range(10), y=range(10))\n",
    "fig.write_html(\"templates/plotly.html\")"
   ]
  },
  {
   "cell_type": "code",
   "execution_count": 80,
   "metadata": {},
   "outputs": [
    {
     "data": {
      "text/plain": [
       "'C:\\\\Users\\\\Cristian\\\\AAA Master_thesis\\\\templates\\\\scatterplot_data.html'"
      ]
     },
     "execution_count": 80,
     "metadata": {},
     "output_type": "execute_result"
    }
   ],
   "source": [
    "from bokeh.layouts import column,row\n",
    "from bokeh.models import ColumnDataSource, CustomJS, Slider\n",
    "from bokeh.plotting import Figure, output_file, save\n",
    "from bokeh.models.widgets import Select\n",
    "\n",
    "x = [x for x in range(-10, 10)]\n",
    "y = x\n",
    "\n",
    "d1 = ColumnDataSource(data=dict(x=x, y=y))\n",
    "d2 = ColumnDataSource(data=dict(x=x, y=[-i for i in y]))\n",
    "source=d1\n",
    "source.selected.js_on_change('indices', CustomJS(code = \"\"\"\n",
    "    console.log(cb_obj.indices);\n",
    "    \"\"\"))\n",
    "\n",
    "TOOLS = \"box_select,lasso_select,help\"\n",
    "\n",
    "plot = Figure(tools = TOOLS)\n",
    "plot.scatter('x', 'y', source=source)\n",
    "\n",
    "plot2 = Figure(tools = TOOLS)\n",
    "plot2.scatter('x', 'y', source=source)\n",
    "\n",
    "select = Select(title=\"Select d\",  options=['d1', 'd2'])\n",
    "def update_plot(attrname, old, new):\n",
    "    if new == 'd1':\n",
    "        source = d1\n",
    "\n",
    "    if new == 'd2':\n",
    "        source = d2\n",
    "select.js_on_change('value',CustomJS(args=dict(source=source,d1=d1,d2=d2), code=\"\"\"\n",
    "    source.data['y'] = d2.data['y'];\n",
    "    source.change.emit();\n",
    "\"\"\"))\n",
    "\n",
    "layout = column(select,row(plot,plot2))\n",
    "output_file(\"templates/scatterplot_data.html\", title='Bokeh Plot', mode=None, root_dir=None)\n",
    "save(layout)"
   ]
  },
  {
   "cell_type": "code",
   "execution_count": null,
   "metadata": {},
   "outputs": [],
   "source": []
  }
 ],
 "metadata": {
  "kernelspec": {
   "display_name": "Python 3",
   "language": "python",
   "name": "python3"
  },
  "language_info": {
   "codemirror_mode": {
    "name": "ipython",
    "version": 3
   },
   "file_extension": ".py",
   "mimetype": "text/x-python",
   "name": "python",
   "nbconvert_exporter": "python",
   "pygments_lexer": "ipython3",
   "version": "3.7.9"
  }
 },
 "nbformat": 4,
 "nbformat_minor": 4
}
